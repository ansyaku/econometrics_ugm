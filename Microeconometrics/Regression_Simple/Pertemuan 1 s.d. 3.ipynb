{
 "cells": [
  {
   "cell_type": "code",
   "execution_count": 26,
   "id": "8ccc848a-ec38-4a10-8b6d-e4a020c1235e",
   "metadata": {},
   "outputs": [
    {
     "data": {
      "text/html": [
       "<table class=\"dataframe\">\n",
       "<caption>A data.frame: 6 × 3</caption>\n",
       "<thead>\n",
       "\t<tr><th></th><th scope=col>colGPA</th><th scope=col>hsGPA</th><th scope=col>ACT</th></tr>\n",
       "\t<tr><th></th><th scope=col>&lt;dbl&gt;</th><th scope=col>&lt;dbl&gt;</th><th scope=col>&lt;int&gt;</th></tr>\n",
       "</thead>\n",
       "<tbody>\n",
       "\t<tr><th scope=row>1</th><td>3</td><td>3</td><td>21</td></tr>\n",
       "\t<tr><th scope=row>2</th><td>3</td><td>3</td><td>24</td></tr>\n",
       "\t<tr><th scope=row>3</th><td>3</td><td>4</td><td>26</td></tr>\n",
       "\t<tr><th scope=row>4</th><td>4</td><td>4</td><td>27</td></tr>\n",
       "\t<tr><th scope=row>5</th><td>4</td><td>4</td><td>28</td></tr>\n",
       "\t<tr><th scope=row>6</th><td>3</td><td>3</td><td>25</td></tr>\n",
       "</tbody>\n",
       "</table>\n"
      ],
      "text/latex": [
       "A data.frame: 6 × 3\n",
       "\\begin{tabular}{r|lll}\n",
       "  & colGPA & hsGPA & ACT\\\\\n",
       "  & <dbl> & <dbl> & <int>\\\\\n",
       "\\hline\n",
       "\t1 & 3 & 3 & 21\\\\\n",
       "\t2 & 3 & 3 & 24\\\\\n",
       "\t3 & 3 & 4 & 26\\\\\n",
       "\t4 & 4 & 4 & 27\\\\\n",
       "\t5 & 4 & 4 & 28\\\\\n",
       "\t6 & 3 & 3 & 25\\\\\n",
       "\\end{tabular}\n"
      ],
      "text/markdown": [
       "\n",
       "A data.frame: 6 × 3\n",
       "\n",
       "| <!--/--> | colGPA &lt;dbl&gt; | hsGPA &lt;dbl&gt; | ACT &lt;int&gt; |\n",
       "|---|---|---|---|\n",
       "| 1 | 3 | 3 | 21 |\n",
       "| 2 | 3 | 3 | 24 |\n",
       "| 3 | 3 | 4 | 26 |\n",
       "| 4 | 4 | 4 | 27 |\n",
       "| 5 | 4 | 4 | 28 |\n",
       "| 6 | 3 | 3 | 25 |\n",
       "\n"
      ],
      "text/plain": [
       "  colGPA hsGPA ACT\n",
       "1 3      3     21 \n",
       "2 3      3     24 \n",
       "3 3      4     26 \n",
       "4 4      4     27 \n",
       "5 4      4     28 \n",
       "6 3      3     25 "
      ]
     },
     "metadata": {},
     "output_type": "display_data"
    }
   ],
   "source": [
    "library(\"wooldridge\")\n",
    "new_gpa1 <- subset(gpa1, select = c(colGPA, hsGPA, ACT))\n",
    "head(new_gpa1)"
   ]
  },
  {
   "cell_type": "code",
   "execution_count": 33,
   "id": "00916460-a367-4405-b470-ecaac5f2f867",
   "metadata": {},
   "outputs": [
    {
     "data": {
      "text/plain": [
       "\n",
       "Call:\n",
       "lm(formula = colGPA ~ hsGPA + ACT, data = new_gpa1)\n",
       "\n",
       "Residuals:\n",
       "    Min      1Q  Median      3Q     Max \n",
       "-0.8544 -0.2467 -0.0261  0.2813  0.8536 \n",
       "\n",
       "Coefficients:\n",
       "            Estimate Std. Error t value Pr(>|t|)    \n",
       "(Intercept)  1.28633    0.34082    3.77  0.00024 ***\n",
       "hsGPA        0.45346    0.09581    4.73  5.4e-06 ***\n",
       "ACT          0.00943    0.01078    0.87  0.38330    \n",
       "---\n",
       "Signif. codes:  0 '***' 0.001 '**' 0.01 '*' 0.05 '.' 0.1 ' ' 1\n",
       "\n",
       "Residual standard error: 0.3 on 138 degrees of freedom\n",
       "Multiple R-squared:  0.176,\tAdjusted R-squared:  0.164 \n",
       "F-statistic: 14.8 on 2 and 138 DF,  p-value: 1.53e-06\n"
      ]
     },
     "metadata": {},
     "output_type": "display_data"
    }
   ],
   "source": [
    "linreg <- lm(colGPA ~ hsGPA+ACT, data = new_gpa1)\n",
    "summary(linreg)"
   ]
  },
  {
   "cell_type": "code",
   "execution_count": 42,
   "id": "84f68911-b940-4b76-b6b4-fc642b175e52",
   "metadata": {},
   "outputs": [
    {
     "data": {
      "text/plain": [
       "\n",
       "+-------------+-----------------------+\n",
       "|             | (1)                   |\n",
       "+=============+=======================+\n",
       "| (Intercept) | 1.28633               |\n",
       "+-------------+-----------------------+\n",
       "|             | (0.34082, p = 2e-04)  |\n",
       "+-------------+-----------------------+\n",
       "| hsGPA       | 0.45346               |\n",
       "+-------------+-----------------------+\n",
       "|             | (0.09581, p = <1e-05) |\n",
       "+-------------+-----------------------+\n",
       "| ACT         | 0.00943               |\n",
       "+-------------+-----------------------+\n",
       "|             | (0.01078, p = 4e-01)  |\n",
       "+-------------+-----------------------+\n",
       "| Num.Obs.    | 141                   |\n",
       "+-------------+-----------------------+\n",
       "| R2          | 0.176                 |\n",
       "+-------------+-----------------------+\n",
       "| R2 Adj.     | 0.164                 |\n",
       "+-------------+-----------------------+\n",
       "| AIC         | 101.1                 |\n",
       "+-------------+-----------------------+\n",
       "| BIC         | 112.9                 |\n",
       "+-------------+-----------------------+\n",
       "| Log.Lik.    | -46.573               |\n",
       "+-------------+-----------------------+\n",
       "| F           | 14.781                |\n",
       "+-------------+-----------------------+\n",
       "| RMSE        | 0.34                  |\n",
       "+-------------+-----------------------+ "
      ]
     },
     "metadata": {},
     "output_type": "display_data"
    }
   ],
   "source": [
    "library(modelsummary)\n",
    "modelsummary(linreg,\n",
    "             fmt = 5,\n",
    "             statistic = \"({std.error}, p = {p.value})\"  # Inline SE\n",
    ")"
   ]
  },
  {
   "cell_type": "code",
   "execution_count": 45,
   "id": "b609a271-7d95-4f12-becf-badff0b736e6",
   "metadata": {},
   "outputs": [
    {
     "name": "stderr",
     "output_type": "stream",
     "text": [
      "\n",
      "Attaching package: 'dplyr'\n",
      "\n",
      "\n",
      "The following objects are masked from 'package:stats':\n",
      "\n",
      "    filter, lag\n",
      "\n",
      "\n",
      "The following objects are masked from 'package:base':\n",
      "\n",
      "    intersect, setdiff, setequal, union\n",
      "\n",
      "\n"
     ]
    },
    {
     "data": {
      "text/plain": [
       "\n",
       "\n",
       "|term        | estimate| std.error| statistic| p.value|\n",
       "|:-----------|--------:|---------:|---------:|-------:|\n",
       "|(Intercept) |      1.3|       0.3|       3.8|     0.0|\n",
       "|hsGPA       |      0.5|       0.1|       4.7|     0.0|\n",
       "|ACT         |      0.0|       0.0|       0.9|     0.4|"
      ]
     },
     "metadata": {},
     "output_type": "display_data"
    },
    {
     "data": {
      "text/plain": [
       "\n",
       "\n",
       "| r.squared| adj.r.squared| nobs|\n",
       "|---------:|-------------:|----:|\n",
       "|       0.2|           0.2|  141|"
      ]
     },
     "metadata": {},
     "output_type": "display_data"
    }
   ],
   "source": [
    "library(broom)\n",
    "library(knitr)\n",
    "library(dplyr)\n",
    "# Koefisien\n",
    "tidy(linreg) %>% \n",
    "  mutate_if(is.numeric, round, 3) %>%\n",
    "  kable()\n",
    "\n",
    "# Model fit\n",
    "glance(linreg) %>% \n",
    "  select(r.squared, adj.r.squared, nobs) %>%\n",
    "  mutate_if(is.numeric, round, 3) %>%\n",
    "  kable()"
   ]
  }
 ],
 "metadata": {
  "kernelspec": {
   "display_name": "R",
   "language": "R",
   "name": "ir"
  },
  "language_info": {
   "codemirror_mode": "r",
   "file_extension": ".r",
   "mimetype": "text/x-r-source",
   "name": "R",
   "pygments_lexer": "r",
   "version": "4.4.1"
  }
 },
 "nbformat": 4,
 "nbformat_minor": 5
}
