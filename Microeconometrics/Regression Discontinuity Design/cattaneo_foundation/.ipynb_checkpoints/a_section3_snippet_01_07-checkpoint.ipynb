{
 "cells": [
  {
   "cell_type": "markdown",
   "id": "d23685df-72d9-4623-9cc3-cc1827c5d9ed",
   "metadata": {},
   "source": [
    "# Section 3. Regression Discontinuity Plots"
   ]
  },
  {
   "cell_type": "code",
   "execution_count": 8,
   "id": "fb7b0c05-060c-417f-975a-2e9989c60a4a",
   "metadata": {},
   "outputs": [
    {
     "data": {
      "text/html": [
       "<table class=\"dataframe\">\n",
       "<caption>A data.frame: 6 × 18</caption>\n",
       "<thead>\n",
       "\t<tr><th></th><th scope=col>X</th><th scope=col>Y</th><th scope=col>T</th><th scope=col>ageshr19</th><th scope=col>ageshr60</th><th scope=col>buyuk</th><th scope=col>hischshr1520m</th><th scope=col>i89</th><th scope=col>lpop1994</th><th scope=col>merkezi</th><th scope=col>merkezp</th><th scope=col>partycount</th><th scope=col>prov</th><th scope=col>prov_num</th><th scope=col>sexr</th><th scope=col>shhs</th><th scope=col>subbuyuk</th><th scope=col>vshr_islam1994</th></tr>\n",
       "\t<tr><th></th><th scope=col>&lt;dbl&gt;</th><th scope=col>&lt;dbl&gt;</th><th scope=col>&lt;int&gt;</th><th scope=col>&lt;dbl&gt;</th><th scope=col>&lt;dbl&gt;</th><th scope=col>&lt;int&gt;</th><th scope=col>&lt;dbl&gt;</th><th scope=col>&lt;int&gt;</th><th scope=col>&lt;dbl&gt;</th><th scope=col>&lt;int&gt;</th><th scope=col>&lt;int&gt;</th><th scope=col>&lt;int&gt;</th><th scope=col>&lt;chr&gt;</th><th scope=col>&lt;chr&gt;</th><th scope=col>&lt;dbl&gt;</th><th scope=col>&lt;dbl&gt;</th><th scope=col>&lt;int&gt;</th><th scope=col>&lt;dbl&gt;</th></tr>\n",
       "</thead>\n",
       "<tbody>\n",
       "\t<tr><th scope=row>1</th><td>-35.60663</td><td>22.96296</td><td>0</td><td>42.20857</td><td>7.506742</td><td>0</td><td>37.93103</td><td> 0</td><td> 7.996990</td><td>1</td><td>0</td><td> 6</td><td>Adana</td><td>Adana</td><td> 97.74815</td><td>4.670399</td><td>0</td><td> 1.5448381</td></tr>\n",
       "\t<tr><th scope=row>2</th><td>-54.34782</td><td>25.43860</td><td>0</td><td>44.09879</td><td>6.340537</td><td>0</td><td>30.89005</td><td> 0</td><td> 7.362645</td><td>0</td><td>0</td><td> 4</td><td>Adana</td><td>Adana</td><td>112.03424</td><td>6.813916</td><td>0</td><td> 2.5135870</td></tr>\n",
       "\t<tr><th scope=row>3</th><td>-20.40923</td><td>22.68273</td><td>0</td><td>43.54768</td><td>5.539970</td><td>1</td><td>22.62840</td><td> 0</td><td>13.175261</td><td>1</td><td>0</td><td>14</td><td>Adana</td><td>Adana</td><td> 97.46254</td><td>4.389300</td><td>0</td><td>11.1114980</td></tr>\n",
       "\t<tr><th scope=row>4</th><td>-44.97207</td><td>15.85366</td><td>0</td><td>43.86755</td><td>6.649007</td><td>0</td><td>17.11712</td><td> 0</td><td> 7.623153</td><td>0</td><td>0</td><td> 6</td><td>Adana</td><td>Adana</td><td>102.52145</td><td>5.510949</td><td>0</td><td> 5.5865922</td></tr>\n",
       "\t<tr><th scope=row>5</th><td>-20.11494</td><td>18.23899</td><td>0</td><td>41.81067</td><td>5.447032</td><td>0</td><td>17.31343</td><td> 0</td><td> 7.647786</td><td>0</td><td>0</td><td> 7</td><td>Adana</td><td>Adana</td><td>118.10733</td><td>6.234192</td><td>0</td><td>10.1880870</td></tr>\n",
       "\t<tr><th scope=row>6</th><td>-50.58997</td><td>25.00000</td><td>0</td><td>40.53058</td><td>6.963891</td><td>0</td><td>26.56250</td><td>NA</td><td> 7.312553</td><td>0</td><td>0</td><td> 5</td><td>Adana</td><td>Adana</td><td>101.78439</td><td>6.004425</td><td>0</td><td> 0.5899705</td></tr>\n",
       "</tbody>\n",
       "</table>\n"
      ],
      "text/latex": [
       "A data.frame: 6 × 18\n",
       "\\begin{tabular}{r|llllllllllllllllll}\n",
       "  & X & Y & T & ageshr19 & ageshr60 & buyuk & hischshr1520m & i89 & lpop1994 & merkezi & merkezp & partycount & prov & prov\\_num & sexr & shhs & subbuyuk & vshr\\_islam1994\\\\\n",
       "  & <dbl> & <dbl> & <int> & <dbl> & <dbl> & <int> & <dbl> & <int> & <dbl> & <int> & <int> & <int> & <chr> & <chr> & <dbl> & <dbl> & <int> & <dbl>\\\\\n",
       "\\hline\n",
       "\t1 & -35.60663 & 22.96296 & 0 & 42.20857 & 7.506742 & 0 & 37.93103 &  0 &  7.996990 & 1 & 0 &  6 & Adana & Adana &  97.74815 & 4.670399 & 0 &  1.5448381\\\\\n",
       "\t2 & -54.34782 & 25.43860 & 0 & 44.09879 & 6.340537 & 0 & 30.89005 &  0 &  7.362645 & 0 & 0 &  4 & Adana & Adana & 112.03424 & 6.813916 & 0 &  2.5135870\\\\\n",
       "\t3 & -20.40923 & 22.68273 & 0 & 43.54768 & 5.539970 & 1 & 22.62840 &  0 & 13.175261 & 1 & 0 & 14 & Adana & Adana &  97.46254 & 4.389300 & 0 & 11.1114980\\\\\n",
       "\t4 & -44.97207 & 15.85366 & 0 & 43.86755 & 6.649007 & 0 & 17.11712 &  0 &  7.623153 & 0 & 0 &  6 & Adana & Adana & 102.52145 & 5.510949 & 0 &  5.5865922\\\\\n",
       "\t5 & -20.11494 & 18.23899 & 0 & 41.81067 & 5.447032 & 0 & 17.31343 &  0 &  7.647786 & 0 & 0 &  7 & Adana & Adana & 118.10733 & 6.234192 & 0 & 10.1880870\\\\\n",
       "\t6 & -50.58997 & 25.00000 & 0 & 40.53058 & 6.963891 & 0 & 26.56250 & NA &  7.312553 & 0 & 0 &  5 & Adana & Adana & 101.78439 & 6.004425 & 0 &  0.5899705\\\\\n",
       "\\end{tabular}\n"
      ],
      "text/markdown": [
       "\n",
       "A data.frame: 6 × 18\n",
       "\n",
       "| <!--/--> | X &lt;dbl&gt; | Y &lt;dbl&gt; | T &lt;int&gt; | ageshr19 &lt;dbl&gt; | ageshr60 &lt;dbl&gt; | buyuk &lt;int&gt; | hischshr1520m &lt;dbl&gt; | i89 &lt;int&gt; | lpop1994 &lt;dbl&gt; | merkezi &lt;int&gt; | merkezp &lt;int&gt; | partycount &lt;int&gt; | prov &lt;chr&gt; | prov_num &lt;chr&gt; | sexr &lt;dbl&gt; | shhs &lt;dbl&gt; | subbuyuk &lt;int&gt; | vshr_islam1994 &lt;dbl&gt; |\n",
       "|---|---|---|---|---|---|---|---|---|---|---|---|---|---|---|---|---|---|---|\n",
       "| 1 | -35.60663 | 22.96296 | 0 | 42.20857 | 7.506742 | 0 | 37.93103 |  0 |  7.996990 | 1 | 0 |  6 | Adana | Adana |  97.74815 | 4.670399 | 0 |  1.5448381 |\n",
       "| 2 | -54.34782 | 25.43860 | 0 | 44.09879 | 6.340537 | 0 | 30.89005 |  0 |  7.362645 | 0 | 0 |  4 | Adana | Adana | 112.03424 | 6.813916 | 0 |  2.5135870 |\n",
       "| 3 | -20.40923 | 22.68273 | 0 | 43.54768 | 5.539970 | 1 | 22.62840 |  0 | 13.175261 | 1 | 0 | 14 | Adana | Adana |  97.46254 | 4.389300 | 0 | 11.1114980 |\n",
       "| 4 | -44.97207 | 15.85366 | 0 | 43.86755 | 6.649007 | 0 | 17.11712 |  0 |  7.623153 | 0 | 0 |  6 | Adana | Adana | 102.52145 | 5.510949 | 0 |  5.5865922 |\n",
       "| 5 | -20.11494 | 18.23899 | 0 | 41.81067 | 5.447032 | 0 | 17.31343 |  0 |  7.647786 | 0 | 0 |  7 | Adana | Adana | 118.10733 | 6.234192 | 0 | 10.1880870 |\n",
       "| 6 | -50.58997 | 25.00000 | 0 | 40.53058 | 6.963891 | 0 | 26.56250 | NA |  7.312553 | 0 | 0 |  5 | Adana | Adana | 101.78439 | 6.004425 | 0 |  0.5899705 |\n",
       "\n"
      ],
      "text/plain": [
       "  X         Y        T ageshr19 ageshr60 buyuk hischshr1520m i89 lpop1994 \n",
       "1 -35.60663 22.96296 0 42.20857 7.506742 0     37.93103       0   7.996990\n",
       "2 -54.34782 25.43860 0 44.09879 6.340537 0     30.89005       0   7.362645\n",
       "3 -20.40923 22.68273 0 43.54768 5.539970 1     22.62840       0  13.175261\n",
       "4 -44.97207 15.85366 0 43.86755 6.649007 0     17.11712       0   7.623153\n",
       "5 -20.11494 18.23899 0 41.81067 5.447032 0     17.31343       0   7.647786\n",
       "6 -50.58997 25.00000 0 40.53058 6.963891 0     26.56250      NA   7.312553\n",
       "  merkezi merkezp partycount prov  prov_num sexr      shhs     subbuyuk\n",
       "1 1       0        6         Adana Adana     97.74815 4.670399 0       \n",
       "2 0       0        4         Adana Adana    112.03424 6.813916 0       \n",
       "3 1       0       14         Adana Adana     97.46254 4.389300 0       \n",
       "4 0       0        6         Adana Adana    102.52145 5.510949 0       \n",
       "5 0       0        7         Adana Adana    118.10733 6.234192 0       \n",
       "6 0       0        5         Adana Adana    101.78439 6.004425 0       \n",
       "  vshr_islam1994\n",
       "1  1.5448381    \n",
       "2  2.5135870    \n",
       "3 11.1114980    \n",
       "4  5.5865922    \n",
       "5 10.1880870    \n",
       "6  0.5899705    "
      ]
     },
     "metadata": {},
     "output_type": "display_data"
    }
   ],
   "source": [
    "turki<-read.csv(\"P:/CODING/GITHUB/econometrics_ugm/Microeconometrics/Regression Discontinuity Design/CIT_2020_CUP_polecon.csv\",sep=\",\", header=1)\n",
    "head(turki)"
   ]
  },
  {
   "cell_type": "code",
   "execution_count": 13,
   "id": "dd91fb03-d5fe-4e7d-b417-487437c2f889",
   "metadata": {},
   "outputs": [
    {
     "data": {
      "text/html": [
       "<style>\n",
       ".list-inline {list-style: none; margin:0; padding: 0}\n",
       ".list-inline>li {display: inline-block}\n",
       ".list-inline>li:not(:last-child)::after {content: \"\\00b7\"; padding: 0 .5ex}\n",
       "</style>\n",
       "<ol class=list-inline><li>'X'</li><li>'Y'</li><li>'T'</li><li>'ageshr19'</li><li>'ageshr60'</li><li>'buyuk'</li><li>'hischshr1520m'</li><li>'i89'</li><li>'lpop1994'</li><li>'merkezi'</li><li>'merkezp'</li><li>'partycount'</li><li>'prov'</li><li>'prov_num'</li><li>'sexr'</li><li>'shhs'</li><li>'subbuyuk'</li><li>'vshr_islam1994'</li></ol>\n"
      ],
      "text/latex": [
       "\\begin{enumerate*}\n",
       "\\item 'X'\n",
       "\\item 'Y'\n",
       "\\item 'T'\n",
       "\\item 'ageshr19'\n",
       "\\item 'ageshr60'\n",
       "\\item 'buyuk'\n",
       "\\item 'hischshr1520m'\n",
       "\\item 'i89'\n",
       "\\item 'lpop1994'\n",
       "\\item 'merkezi'\n",
       "\\item 'merkezp'\n",
       "\\item 'partycount'\n",
       "\\item 'prov'\n",
       "\\item 'prov\\_num'\n",
       "\\item 'sexr'\n",
       "\\item 'shhs'\n",
       "\\item 'subbuyuk'\n",
       "\\item 'vshr\\_islam1994'\n",
       "\\end{enumerate*}\n"
      ],
      "text/markdown": [
       "1. 'X'\n",
       "2. 'Y'\n",
       "3. 'T'\n",
       "4. 'ageshr19'\n",
       "5. 'ageshr60'\n",
       "6. 'buyuk'\n",
       "7. 'hischshr1520m'\n",
       "8. 'i89'\n",
       "9. 'lpop1994'\n",
       "10. 'merkezi'\n",
       "11. 'merkezp'\n",
       "12. 'partycount'\n",
       "13. 'prov'\n",
       "14. 'prov_num'\n",
       "15. 'sexr'\n",
       "16. 'shhs'\n",
       "17. 'subbuyuk'\n",
       "18. 'vshr_islam1994'\n",
       "\n",
       "\n"
      ],
      "text/plain": [
       " [1] \"X\"              \"Y\"              \"T\"              \"ageshr19\"      \n",
       " [5] \"ageshr60\"       \"buyuk\"          \"hischshr1520m\"  \"i89\"           \n",
       " [9] \"lpop1994\"       \"merkezi\"        \"merkezp\"        \"partycount\"    \n",
       "[13] \"prov\"           \"prov_num\"       \"sexr\"           \"shhs\"          \n",
       "[17] \"subbuyuk\"       \"vshr_islam1994\""
      ]
     },
     "metadata": {},
     "output_type": "display_data"
    }
   ],
   "source": [
    "names(turki)"
   ]
  },
  {
   "cell_type": "code",
   "execution_count": 12,
   "id": "72559847-013d-476d-a7b7-3f70c05c8400",
   "metadata": {},
   "outputs": [
    {
     "ename": "ERROR",
     "evalue": "Error: object 'X' not found\n",
     "output_type": "error",
     "traceback": [
      "Error: object 'X' not found\nTraceback:\n",
      "1. .handleSimpleError(function (cnd) \n . {\n .     watcher$capture_plot_and_output()\n .     cnd <- sanitize_call(cnd)\n .     watcher$push(cnd)\n .     switch(on_error, continue = invokeRestart(\"eval_continue\"), \n .         stop = invokeRestart(\"eval_stop\"), error = invokeRestart(\"eval_error\", \n .             cnd))\n . }, \"object 'X' not found\", base::quote(eval(expr, envir)))"
     ]
    }
   ],
   "source": [
    "plot(X, Y, xlab = \"Score\", ylab = \"Outcome\", col = 1, pch = 20, cex.axis = 1.5, cex.lab = 1.5)\n",
    "abline(v = 0)"
   ]
  }
 ],
 "metadata": {
  "kernelspec": {
   "display_name": "R",
   "language": "R",
   "name": "ir"
  },
  "language_info": {
   "codemirror_mode": "r",
   "file_extension": ".r",
   "mimetype": "text/x-r-source",
   "name": "R",
   "pygments_lexer": "r",
   "version": "4.4.1"
  }
 },
 "nbformat": 4,
 "nbformat_minor": 5
}
