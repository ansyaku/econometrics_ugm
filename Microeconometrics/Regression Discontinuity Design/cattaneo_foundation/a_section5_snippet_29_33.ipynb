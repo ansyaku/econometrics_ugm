{
 "cells": [
  {
   "cell_type": "code",
   "execution_count": 1,
   "id": "fb7b0c05-060c-417f-975a-2e9989c60a4a",
   "metadata": {},
   "outputs": [
    {
     "data": {
      "text/html": [
       "<table class=\"dataframe\">\n",
       "<caption>A data.frame: 6 × 18</caption>\n",
       "<thead>\n",
       "\t<tr><th></th><th scope=col>X</th><th scope=col>Y</th><th scope=col>T</th><th scope=col>ageshr19</th><th scope=col>ageshr60</th><th scope=col>buyuk</th><th scope=col>hischshr1520m</th><th scope=col>i89</th><th scope=col>lpop1994</th><th scope=col>merkezi</th><th scope=col>merkezp</th><th scope=col>partycount</th><th scope=col>prov</th><th scope=col>prov_num</th><th scope=col>sexr</th><th scope=col>shhs</th><th scope=col>subbuyuk</th><th scope=col>vshr_islam1994</th></tr>\n",
       "\t<tr><th></th><th scope=col>&lt;dbl&gt;</th><th scope=col>&lt;dbl&gt;</th><th scope=col>&lt;int&gt;</th><th scope=col>&lt;dbl&gt;</th><th scope=col>&lt;dbl&gt;</th><th scope=col>&lt;int&gt;</th><th scope=col>&lt;dbl&gt;</th><th scope=col>&lt;int&gt;</th><th scope=col>&lt;dbl&gt;</th><th scope=col>&lt;int&gt;</th><th scope=col>&lt;int&gt;</th><th scope=col>&lt;int&gt;</th><th scope=col>&lt;chr&gt;</th><th scope=col>&lt;chr&gt;</th><th scope=col>&lt;dbl&gt;</th><th scope=col>&lt;dbl&gt;</th><th scope=col>&lt;int&gt;</th><th scope=col>&lt;dbl&gt;</th></tr>\n",
       "</thead>\n",
       "<tbody>\n",
       "\t<tr><th scope=row>1</th><td>-35.60663</td><td>22.96296</td><td>0</td><td>42.20857</td><td>7.506742</td><td>0</td><td>37.93103</td><td> 0</td><td> 7.996990</td><td>1</td><td>0</td><td> 6</td><td>Adana</td><td>Adana</td><td> 97.74815</td><td>4.670399</td><td>0</td><td> 1.5448381</td></tr>\n",
       "\t<tr><th scope=row>2</th><td>-54.34782</td><td>25.43860</td><td>0</td><td>44.09879</td><td>6.340537</td><td>0</td><td>30.89005</td><td> 0</td><td> 7.362645</td><td>0</td><td>0</td><td> 4</td><td>Adana</td><td>Adana</td><td>112.03424</td><td>6.813916</td><td>0</td><td> 2.5135870</td></tr>\n",
       "\t<tr><th scope=row>3</th><td>-20.40923</td><td>22.68273</td><td>0</td><td>43.54768</td><td>5.539970</td><td>1</td><td>22.62840</td><td> 0</td><td>13.175261</td><td>1</td><td>0</td><td>14</td><td>Adana</td><td>Adana</td><td> 97.46254</td><td>4.389300</td><td>0</td><td>11.1114980</td></tr>\n",
       "\t<tr><th scope=row>4</th><td>-44.97207</td><td>15.85366</td><td>0</td><td>43.86755</td><td>6.649007</td><td>0</td><td>17.11712</td><td> 0</td><td> 7.623153</td><td>0</td><td>0</td><td> 6</td><td>Adana</td><td>Adana</td><td>102.52145</td><td>5.510949</td><td>0</td><td> 5.5865922</td></tr>\n",
       "\t<tr><th scope=row>5</th><td>-20.11494</td><td>18.23899</td><td>0</td><td>41.81067</td><td>5.447032</td><td>0</td><td>17.31343</td><td> 0</td><td> 7.647786</td><td>0</td><td>0</td><td> 7</td><td>Adana</td><td>Adana</td><td>118.10733</td><td>6.234192</td><td>0</td><td>10.1880870</td></tr>\n",
       "\t<tr><th scope=row>6</th><td>-50.58997</td><td>25.00000</td><td>0</td><td>40.53058</td><td>6.963891</td><td>0</td><td>26.56250</td><td>NA</td><td> 7.312553</td><td>0</td><td>0</td><td> 5</td><td>Adana</td><td>Adana</td><td>101.78439</td><td>6.004425</td><td>0</td><td> 0.5899705</td></tr>\n",
       "</tbody>\n",
       "</table>\n"
      ],
      "text/latex": [
       "A data.frame: 6 × 18\n",
       "\\begin{tabular}{r|llllllllllllllllll}\n",
       "  & X & Y & T & ageshr19 & ageshr60 & buyuk & hischshr1520m & i89 & lpop1994 & merkezi & merkezp & partycount & prov & prov\\_num & sexr & shhs & subbuyuk & vshr\\_islam1994\\\\\n",
       "  & <dbl> & <dbl> & <int> & <dbl> & <dbl> & <int> & <dbl> & <int> & <dbl> & <int> & <int> & <int> & <chr> & <chr> & <dbl> & <dbl> & <int> & <dbl>\\\\\n",
       "\\hline\n",
       "\t1 & -35.60663 & 22.96296 & 0 & 42.20857 & 7.506742 & 0 & 37.93103 &  0 &  7.996990 & 1 & 0 &  6 & Adana & Adana &  97.74815 & 4.670399 & 0 &  1.5448381\\\\\n",
       "\t2 & -54.34782 & 25.43860 & 0 & 44.09879 & 6.340537 & 0 & 30.89005 &  0 &  7.362645 & 0 & 0 &  4 & Adana & Adana & 112.03424 & 6.813916 & 0 &  2.5135870\\\\\n",
       "\t3 & -20.40923 & 22.68273 & 0 & 43.54768 & 5.539970 & 1 & 22.62840 &  0 & 13.175261 & 1 & 0 & 14 & Adana & Adana &  97.46254 & 4.389300 & 0 & 11.1114980\\\\\n",
       "\t4 & -44.97207 & 15.85366 & 0 & 43.86755 & 6.649007 & 0 & 17.11712 &  0 &  7.623153 & 0 & 0 &  6 & Adana & Adana & 102.52145 & 5.510949 & 0 &  5.5865922\\\\\n",
       "\t5 & -20.11494 & 18.23899 & 0 & 41.81067 & 5.447032 & 0 & 17.31343 &  0 &  7.647786 & 0 & 0 &  7 & Adana & Adana & 118.10733 & 6.234192 & 0 & 10.1880870\\\\\n",
       "\t6 & -50.58997 & 25.00000 & 0 & 40.53058 & 6.963891 & 0 & 26.56250 & NA &  7.312553 & 0 & 0 &  5 & Adana & Adana & 101.78439 & 6.004425 & 0 &  0.5899705\\\\\n",
       "\\end{tabular}\n"
      ],
      "text/markdown": [
       "\n",
       "A data.frame: 6 × 18\n",
       "\n",
       "| <!--/--> | X &lt;dbl&gt; | Y &lt;dbl&gt; | T &lt;int&gt; | ageshr19 &lt;dbl&gt; | ageshr60 &lt;dbl&gt; | buyuk &lt;int&gt; | hischshr1520m &lt;dbl&gt; | i89 &lt;int&gt; | lpop1994 &lt;dbl&gt; | merkezi &lt;int&gt; | merkezp &lt;int&gt; | partycount &lt;int&gt; | prov &lt;chr&gt; | prov_num &lt;chr&gt; | sexr &lt;dbl&gt; | shhs &lt;dbl&gt; | subbuyuk &lt;int&gt; | vshr_islam1994 &lt;dbl&gt; |\n",
       "|---|---|---|---|---|---|---|---|---|---|---|---|---|---|---|---|---|---|---|\n",
       "| 1 | -35.60663 | 22.96296 | 0 | 42.20857 | 7.506742 | 0 | 37.93103 |  0 |  7.996990 | 1 | 0 |  6 | Adana | Adana |  97.74815 | 4.670399 | 0 |  1.5448381 |\n",
       "| 2 | -54.34782 | 25.43860 | 0 | 44.09879 | 6.340537 | 0 | 30.89005 |  0 |  7.362645 | 0 | 0 |  4 | Adana | Adana | 112.03424 | 6.813916 | 0 |  2.5135870 |\n",
       "| 3 | -20.40923 | 22.68273 | 0 | 43.54768 | 5.539970 | 1 | 22.62840 |  0 | 13.175261 | 1 | 0 | 14 | Adana | Adana |  97.46254 | 4.389300 | 0 | 11.1114980 |\n",
       "| 4 | -44.97207 | 15.85366 | 0 | 43.86755 | 6.649007 | 0 | 17.11712 |  0 |  7.623153 | 0 | 0 |  6 | Adana | Adana | 102.52145 | 5.510949 | 0 |  5.5865922 |\n",
       "| 5 | -20.11494 | 18.23899 | 0 | 41.81067 | 5.447032 | 0 | 17.31343 |  0 |  7.647786 | 0 | 0 |  7 | Adana | Adana | 118.10733 | 6.234192 | 0 | 10.1880870 |\n",
       "| 6 | -50.58997 | 25.00000 | 0 | 40.53058 | 6.963891 | 0 | 26.56250 | NA |  7.312553 | 0 | 0 |  5 | Adana | Adana | 101.78439 | 6.004425 | 0 |  0.5899705 |\n",
       "\n"
      ],
      "text/plain": [
       "  X         Y        T ageshr19 ageshr60 buyuk hischshr1520m i89 lpop1994 \n",
       "1 -35.60663 22.96296 0 42.20857 7.506742 0     37.93103       0   7.996990\n",
       "2 -54.34782 25.43860 0 44.09879 6.340537 0     30.89005       0   7.362645\n",
       "3 -20.40923 22.68273 0 43.54768 5.539970 1     22.62840       0  13.175261\n",
       "4 -44.97207 15.85366 0 43.86755 6.649007 0     17.11712       0   7.623153\n",
       "5 -20.11494 18.23899 0 41.81067 5.447032 0     17.31343       0   7.647786\n",
       "6 -50.58997 25.00000 0 40.53058 6.963891 0     26.56250      NA   7.312553\n",
       "  merkezi merkezp partycount prov  prov_num sexr      shhs     subbuyuk\n",
       "1 1       0        6         Adana Adana     97.74815 4.670399 0       \n",
       "2 0       0        4         Adana Adana    112.03424 6.813916 0       \n",
       "3 1       0       14         Adana Adana     97.46254 4.389300 0       \n",
       "4 0       0        6         Adana Adana    102.52145 5.510949 0       \n",
       "5 0       0        7         Adana Adana    118.10733 6.234192 0       \n",
       "6 0       0        5         Adana Adana    101.78439 6.004425 0       \n",
       "  vshr_islam1994\n",
       "1  1.5448381    \n",
       "2  2.5135870    \n",
       "3 11.1114980    \n",
       "4  5.5865922    \n",
       "5 10.1880870    \n",
       "6  0.5899705    "
      ]
     },
     "metadata": {},
     "output_type": "display_data"
    }
   ],
   "source": [
    "turki<-read.csv(\"P:/CODING/GITHUB/econometrics_ugm/Microeconometrics/Regression Discontinuity Design/CIT_2020_CUP_polecon.csv\",sep=\",\", header=1)\n",
    "head(turki)"
   ]
  },
  {
   "cell_type": "markdown",
   "id": "d3b581e5-a50a-4627-82a7-328883e5c8a3",
   "metadata": {},
   "source": [
    "## R Snippet 29"
   ]
  },
  {
   "cell_type": "code",
   "execution_count": 4,
   "id": "72559847-013d-476d-a7b7-3f70c05c8400",
   "metadata": {},
   "outputs": [
    {
     "name": "stdout",
     "output_type": "stream",
     "text": [
      "Sharp RD estimates using local polynomial regression.\n",
      "\n",
      "Number of Obs.                 2629\n",
      "BW type                       mserd\n",
      "Kernel                   Triangular\n",
      "VCE method                       NN\n",
      "\n",
      "Number of Obs.                 2314          315\n",
      "Eff. Number of Obs.             400          233\n",
      "Order est. (p)                    1            1\n",
      "Order bias  (q)                   2            2\n",
      "BW est. (h)                  13.320       13.320\n",
      "BW bias (b)                  21.368       21.368\n",
      "rho (h/b)                     0.623        0.623\n",
      "Unique Obs.                    2311          315\n",
      "\n",
      "=============================================================================\n",
      "        Method     Coef. Std. Err.         z     P>|z|      [ 95% C.I. ]       \n",
      "=============================================================================\n",
      "  Conventional     0.012     0.278     0.045     0.964    [-0.532 , 0.557]     \n",
      "        Robust         -         -     0.001     0.999    [-0.644 , 0.645]     \n",
      "=============================================================================\n"
     ]
    }
   ],
   "source": [
    "library('rdrobust')\n",
    "model29=rdrobust(turki$lpop1994, turki$X)\n",
    "summary(model29)"
   ]
  },
  {
   "cell_type": "markdown",
   "id": "3dfc245a-9131-48c9-9ea2-db0701d5c9f9",
   "metadata": {},
   "source": [
    "## R Snippet 30"
   ]
  },
  {
   "cell_type": "code",
   "execution_count": 21,
   "id": "e1b2f0b7-effb-4709-bb50-f4054a379614",
   "metadata": {},
   "outputs": [
    {
     "data": {
      "image/png": "[encoded data removed]",
      "text/plain": [
       "plot without title"
      ]
     },
     "metadata": {
      "image/png": {
       "height": 420,
       "width": 420
      }
     },
     "output_type": "display_data"
    }
   ],
   "source": [
    "bandwidth=rdrobust(turki$lpop1994, turki$X)$bws[1,1]\n",
    "xlim=ceiling(bandwidth)\n",
    "rdplot(turki$lpop1994[abs(turki$X)<=bandwidth], turki$X[abs(turki$X)<=bandwidth], \n",
    "       p=1, kernel=\"triangular\", \n",
    "       x.lim=c(-xlim, xlim),\n",
    "       x.label=\"Score\",\n",
    "       y.label=\"\",\n",
    "       title=\"\"\n",
    "      )"
   ]
  },
  {
   "cell_type": "markdown",
   "id": "343ff5fb-4419-488e-87fd-d401750d29de",
   "metadata": {},
   "source": [
    "## R Snippet 31"
   ]
  },
  {
   "cell_type": "code",
   "execution_count": 5,
   "id": "2b19b893-7469-4487-b35c-5c5302d14429",
   "metadata": {},
   "outputs": [
    {
     "data": {
      "text/plain": [
       "\n",
       "\tExact binomial test\n",
       "\n",
       "data:  53 and 100\n",
       "number of successes = 53, number of trials = 100, p-value = 0.6173\n",
       "alternative hypothesis: true probability of success is not equal to 0.5\n",
       "95 percent confidence interval:\n",
       " 0.4275815 0.6305948\n",
       "sample estimates:\n",
       "probability of success \n",
       "                  0.53 \n"
      ]
     },
     "metadata": {},
     "output_type": "display_data"
    }
   ],
   "source": [
    "binom.test(53, 100, 1/2)"
   ]
  },
  {
   "cell_type": "markdown",
   "id": "016d3b2b-cff9-4d89-8e4e-366e9234acba",
   "metadata": {},
   "source": [
    "## R Snippet 32"
   ]
  },
  {
   "cell_type": "code",
   "execution_count": 9,
   "id": "59adae5e-3b53-4c06-ba90-f90d8ec85cf2",
   "metadata": {},
   "outputs": [
    {
     "name": "stdout",
     "output_type": "stream",
     "text": [
      "\n",
      "Manipulation testing using local polynomial density estimation.\n",
      "\n",
      "Number of obs =       2629\n",
      "Model =               unrestricted\n",
      "Kernel =              triangular\n",
      "BW method =           estimated\n",
      "VCE method =          jackknife\n",
      "\n",
      "c = 0                 Left of c           Right of c          \n",
      "Number of obs         2314                315                 \n",
      "Eff. Number of obs    965                 301                 \n",
      "Order est. (p)        2                   2                   \n",
      "Order bias (q)        3                   3                   \n",
      "BW est. (h)           30.539              28.287              \n",
      "\n",
      "Method                T                   P > |T|             \n",
      "Robust                -1.3937             0.1634              \n",
      "\n"
     ]
    },
    {
     "name": "stderr",
     "output_type": "stream",
     "text": [
      "Warning message in summary.CJMrddensity(model_32):\n",
      "\"There are repeated observations. Point estimates and standard errors have been adjusted. Use option massPoints=FALSE to suppress this feature.\"\n"
     ]
    },
    {
     "name": "stdout",
     "output_type": "stream",
     "text": [
      "\n",
      "P-values of binomial tests (H0: p=0.5).\n",
      "\n",
      "Window Length / 2          <c     >=c    P>|T|\n",
      "0.874                      20      26    0.4614\n",
      "1.748                      42      49    0.5296\n",
      "2.622                      70      63    0.6030\n",
      "3.496                      95      81    0.3271\n",
      "4.370                     131      98    0.0342\n",
      "5.245                     155     112    0.0100\n",
      "6.119                     183     131    0.0039\n",
      "6.993                     209     148    0.0015\n",
      "7.867                     229     160    0.0005\n",
      "8.741                     257     173    0.0001\n"
     ]
    }
   ],
   "source": [
    "library('rddensity')\n",
    "model_32=rddensity(turki$X)\n",
    "summary(model_32)"
   ]
  },
  {
   "cell_type": "markdown",
   "id": "33f83da8-41f4-454c-8574-106f67ac58a2",
   "metadata": {},
   "source": [
    "## R Snippet 33"
   ]
  },
  {
   "cell_type": "code",
   "execution_count": 13,
   "id": "14f29011-44a5-4d47-ad23-d60f8424e9d7",
   "metadata": {},
   "outputs": [
    {
     "name": "stdout",
     "output_type": "stream",
     "text": [
      "Sharp RD estimates using local polynomial regression.\n",
      "\n",
      "Number of Obs.                  315\n",
      "BW type                       mserd\n",
      "Kernel                   Triangular\n",
      "VCE method                       NN\n",
      "\n",
      "Number of Obs.                   30          285\n",
      "Eff. Number of Obs.              30           49\n",
      "Order est. (p)                    1            1\n",
      "Order bias  (q)                   2            2\n",
      "BW est. (h)                   2.362        2.362\n",
      "BW bias (b)                   3.326        3.326\n",
      "rho (h/b)                     0.710        0.710\n",
      "Unique Obs.                      30          285\n",
      "\n",
      "=============================================================================\n",
      "        Method     Coef. Std. Err.         z     P>|z|      [ 95% C.I. ]       \n",
      "=============================================================================\n",
      "  Conventional    -1.131     4.252    -0.266     0.790    [-9.464 , 7.202]     \n",
      "        Robust         -         -     0.270     0.787    [-9.967 , 13.147]    \n",
      "=============================================================================\n"
     ]
    }
   ],
   "source": [
    "model_33=rdrobust(turki$Y[turki$X>0], turki$X[turki$X>=0],c=1)\n",
    "summary(model_33)"
   ]
  },
  {
   "cell_type": "markdown",
   "id": "6db5c8d9-f045-4c71-b237-7d37f577e999",
   "metadata": {},
   "source": [
    "## R Snippet 34"
   ]
  },
  {
   "cell_type": "code",
   "execution_count": 12,
   "id": "a9552996-7026-46b2-bdd3-80b9111c225b",
   "metadata": {},
   "outputs": [
    {
     "name": "stdout",
     "output_type": "stream",
     "text": [
      "Sharp RD estimates using local polynomial regression.\n",
      "\n",
      "Number of Obs.                 2616\n",
      "BW type                       mserd\n",
      "Kernel                   Triangular\n",
      "VCE method                       NN\n",
      "\n",
      "Number of Obs.                 2307          309\n",
      "Eff. Number of Obs.             482          248\n",
      "Order est. (p)                    1            1\n",
      "Order bias  (q)                   2            2\n",
      "BW est. (h)                  16.043       16.043\n",
      "BW bias (b)                  27.520       27.520\n",
      "rho (h/b)                     0.583        0.583\n",
      "Unique Obs.                    2304          309\n",
      "\n",
      "=============================================================================\n",
      "        Method     Coef. Std. Err.         z     P>|z|      [ 95% C.I. ]       \n",
      "=============================================================================\n",
      "  Conventional     3.414     1.517     2.251     0.024     [0.441 , 6.387]     \n",
      "        Robust         -         -     1.923     0.054    [-0.067 , 6.965]     \n",
      "=============================================================================\n"
     ]
    }
   ],
   "source": [
    "model_34=rdrobust(turki$Y[abs(turki$X)>=0.3], turki$X[abs(turki$X)>=0.3])\n",
    "summary(model_34)"
   ]
  }
 ],
 "metadata": {
  "kernelspec": {
   "display_name": "R",
   "language": "R",
   "name": "ir"
  },
  "language_info": {
   "codemirror_mode": "r",
   "file_extension": ".r",
   "mimetype": "text/x-r-source",
   "name": "R",
   "pygments_lexer": "r",
   "version": "4.4.1"
  }
 },
 "nbformat": 4,
 "nbformat_minor": 5
}
