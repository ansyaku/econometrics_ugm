{
 "cells": [
  {
   "cell_type": "code",
   "execution_count": 1,
   "id": "fb7b0c05-060c-417f-975a-2e9989c60a4a",
   "metadata": {},
   "outputs": [
    {
     "data": {
      "text/html": [
       "<table class=\"dataframe\">\n",
       "<caption>A data.frame: 6 × 18</caption>\n",
       "<thead>\n",
       "\t<tr><th></th><th scope=col>X</th><th scope=col>Y</th><th scope=col>T</th><th scope=col>ageshr19</th><th scope=col>ageshr60</th><th scope=col>buyuk</th><th scope=col>hischshr1520m</th><th scope=col>i89</th><th scope=col>lpop1994</th><th scope=col>merkezi</th><th scope=col>merkezp</th><th scope=col>partycount</th><th scope=col>prov</th><th scope=col>prov_num</th><th scope=col>sexr</th><th scope=col>shhs</th><th scope=col>subbuyuk</th><th scope=col>vshr_islam1994</th></tr>\n",
       "\t<tr><th></th><th scope=col>&lt;dbl&gt;</th><th scope=col>&lt;dbl&gt;</th><th scope=col>&lt;int&gt;</th><th scope=col>&lt;dbl&gt;</th><th scope=col>&lt;dbl&gt;</th><th scope=col>&lt;int&gt;</th><th scope=col>&lt;dbl&gt;</th><th scope=col>&lt;int&gt;</th><th scope=col>&lt;dbl&gt;</th><th scope=col>&lt;int&gt;</th><th scope=col>&lt;int&gt;</th><th scope=col>&lt;int&gt;</th><th scope=col>&lt;chr&gt;</th><th scope=col>&lt;chr&gt;</th><th scope=col>&lt;dbl&gt;</th><th scope=col>&lt;dbl&gt;</th><th scope=col>&lt;int&gt;</th><th scope=col>&lt;dbl&gt;</th></tr>\n",
       "</thead>\n",
       "<tbody>\n",
       "\t<tr><th scope=row>1</th><td>-35.60663</td><td>22.96296</td><td>0</td><td>42.20857</td><td>7.506742</td><td>0</td><td>37.93103</td><td> 0</td><td> 7.996990</td><td>1</td><td>0</td><td> 6</td><td>Adana</td><td>Adana</td><td> 97.74815</td><td>4.670399</td><td>0</td><td> 1.5448381</td></tr>\n",
       "\t<tr><th scope=row>2</th><td>-54.34782</td><td>25.43860</td><td>0</td><td>44.09879</td><td>6.340537</td><td>0</td><td>30.89005</td><td> 0</td><td> 7.362645</td><td>0</td><td>0</td><td> 4</td><td>Adana</td><td>Adana</td><td>112.03424</td><td>6.813916</td><td>0</td><td> 2.5135870</td></tr>\n",
       "\t<tr><th scope=row>3</th><td>-20.40923</td><td>22.68273</td><td>0</td><td>43.54768</td><td>5.539970</td><td>1</td><td>22.62840</td><td> 0</td><td>13.175261</td><td>1</td><td>0</td><td>14</td><td>Adana</td><td>Adana</td><td> 97.46254</td><td>4.389300</td><td>0</td><td>11.1114980</td></tr>\n",
       "\t<tr><th scope=row>4</th><td>-44.97207</td><td>15.85366</td><td>0</td><td>43.86755</td><td>6.649007</td><td>0</td><td>17.11712</td><td> 0</td><td> 7.623153</td><td>0</td><td>0</td><td> 6</td><td>Adana</td><td>Adana</td><td>102.52145</td><td>5.510949</td><td>0</td><td> 5.5865922</td></tr>\n",
       "\t<tr><th scope=row>5</th><td>-20.11494</td><td>18.23899</td><td>0</td><td>41.81067</td><td>5.447032</td><td>0</td><td>17.31343</td><td> 0</td><td> 7.647786</td><td>0</td><td>0</td><td> 7</td><td>Adana</td><td>Adana</td><td>118.10733</td><td>6.234192</td><td>0</td><td>10.1880870</td></tr>\n",
       "\t<tr><th scope=row>6</th><td>-50.58997</td><td>25.00000</td><td>0</td><td>40.53058</td><td>6.963891</td><td>0</td><td>26.56250</td><td>NA</td><td> 7.312553</td><td>0</td><td>0</td><td> 5</td><td>Adana</td><td>Adana</td><td>101.78439</td><td>6.004425</td><td>0</td><td> 0.5899705</td></tr>\n",
       "</tbody>\n",
       "</table>\n"
      ],
      "text/latex": [
       "A data.frame: 6 × 18\n",
       "\\begin{tabular}{r|llllllllllllllllll}\n",
       "  & X & Y & T & ageshr19 & ageshr60 & buyuk & hischshr1520m & i89 & lpop1994 & merkezi & merkezp & partycount & prov & prov\\_num & sexr & shhs & subbuyuk & vshr\\_islam1994\\\\\n",
       "  & <dbl> & <dbl> & <int> & <dbl> & <dbl> & <int> & <dbl> & <int> & <dbl> & <int> & <int> & <int> & <chr> & <chr> & <dbl> & <dbl> & <int> & <dbl>\\\\\n",
       "\\hline\n",
       "\t1 & -35.60663 & 22.96296 & 0 & 42.20857 & 7.506742 & 0 & 37.93103 &  0 &  7.996990 & 1 & 0 &  6 & Adana & Adana &  97.74815 & 4.670399 & 0 &  1.5448381\\\\\n",
       "\t2 & -54.34782 & 25.43860 & 0 & 44.09879 & 6.340537 & 0 & 30.89005 &  0 &  7.362645 & 0 & 0 &  4 & Adana & Adana & 112.03424 & 6.813916 & 0 &  2.5135870\\\\\n",
       "\t3 & -20.40923 & 22.68273 & 0 & 43.54768 & 5.539970 & 1 & 22.62840 &  0 & 13.175261 & 1 & 0 & 14 & Adana & Adana &  97.46254 & 4.389300 & 0 & 11.1114980\\\\\n",
       "\t4 & -44.97207 & 15.85366 & 0 & 43.86755 & 6.649007 & 0 & 17.11712 &  0 &  7.623153 & 0 & 0 &  6 & Adana & Adana & 102.52145 & 5.510949 & 0 &  5.5865922\\\\\n",
       "\t5 & -20.11494 & 18.23899 & 0 & 41.81067 & 5.447032 & 0 & 17.31343 &  0 &  7.647786 & 0 & 0 &  7 & Adana & Adana & 118.10733 & 6.234192 & 0 & 10.1880870\\\\\n",
       "\t6 & -50.58997 & 25.00000 & 0 & 40.53058 & 6.963891 & 0 & 26.56250 & NA &  7.312553 & 0 & 0 &  5 & Adana & Adana & 101.78439 & 6.004425 & 0 &  0.5899705\\\\\n",
       "\\end{tabular}\n"
      ],
      "text/markdown": [
       "\n",
       "A data.frame: 6 × 18\n",
       "\n",
       "| <!--/--> | X &lt;dbl&gt; | Y &lt;dbl&gt; | T &lt;int&gt; | ageshr19 &lt;dbl&gt; | ageshr60 &lt;dbl&gt; | buyuk &lt;int&gt; | hischshr1520m &lt;dbl&gt; | i89 &lt;int&gt; | lpop1994 &lt;dbl&gt; | merkezi &lt;int&gt; | merkezp &lt;int&gt; | partycount &lt;int&gt; | prov &lt;chr&gt; | prov_num &lt;chr&gt; | sexr &lt;dbl&gt; | shhs &lt;dbl&gt; | subbuyuk &lt;int&gt; | vshr_islam1994 &lt;dbl&gt; |\n",
       "|---|---|---|---|---|---|---|---|---|---|---|---|---|---|---|---|---|---|---|\n",
       "| 1 | -35.60663 | 22.96296 | 0 | 42.20857 | 7.506742 | 0 | 37.93103 |  0 |  7.996990 | 1 | 0 |  6 | Adana | Adana |  97.74815 | 4.670399 | 0 |  1.5448381 |\n",
       "| 2 | -54.34782 | 25.43860 | 0 | 44.09879 | 6.340537 | 0 | 30.89005 |  0 |  7.362645 | 0 | 0 |  4 | Adana | Adana | 112.03424 | 6.813916 | 0 |  2.5135870 |\n",
       "| 3 | -20.40923 | 22.68273 | 0 | 43.54768 | 5.539970 | 1 | 22.62840 |  0 | 13.175261 | 1 | 0 | 14 | Adana | Adana |  97.46254 | 4.389300 | 0 | 11.1114980 |\n",
       "| 4 | -44.97207 | 15.85366 | 0 | 43.86755 | 6.649007 | 0 | 17.11712 |  0 |  7.623153 | 0 | 0 |  6 | Adana | Adana | 102.52145 | 5.510949 | 0 |  5.5865922 |\n",
       "| 5 | -20.11494 | 18.23899 | 0 | 41.81067 | 5.447032 | 0 | 17.31343 |  0 |  7.647786 | 0 | 0 |  7 | Adana | Adana | 118.10733 | 6.234192 | 0 | 10.1880870 |\n",
       "| 6 | -50.58997 | 25.00000 | 0 | 40.53058 | 6.963891 | 0 | 26.56250 | NA |  7.312553 | 0 | 0 |  5 | Adana | Adana | 101.78439 | 6.004425 | 0 |  0.5899705 |\n",
       "\n"
      ],
      "text/plain": [
       "  X         Y        T ageshr19 ageshr60 buyuk hischshr1520m i89 lpop1994 \n",
       "1 -35.60663 22.96296 0 42.20857 7.506742 0     37.93103       0   7.996990\n",
       "2 -54.34782 25.43860 0 44.09879 6.340537 0     30.89005       0   7.362645\n",
       "3 -20.40923 22.68273 0 43.54768 5.539970 1     22.62840       0  13.175261\n",
       "4 -44.97207 15.85366 0 43.86755 6.649007 0     17.11712       0   7.623153\n",
       "5 -20.11494 18.23899 0 41.81067 5.447032 0     17.31343       0   7.647786\n",
       "6 -50.58997 25.00000 0 40.53058 6.963891 0     26.56250      NA   7.312553\n",
       "  merkezi merkezp partycount prov  prov_num sexr      shhs     subbuyuk\n",
       "1 1       0        6         Adana Adana     97.74815 4.670399 0       \n",
       "2 0       0        4         Adana Adana    112.03424 6.813916 0       \n",
       "3 1       0       14         Adana Adana     97.46254 4.389300 0       \n",
       "4 0       0        6         Adana Adana    102.52145 5.510949 0       \n",
       "5 0       0        7         Adana Adana    118.10733 6.234192 0       \n",
       "6 0       0        5         Adana Adana    101.78439 6.004425 0       \n",
       "  vshr_islam1994\n",
       "1  1.5448381    \n",
       "2  2.5135870    \n",
       "3 11.1114980    \n",
       "4  5.5865922    \n",
       "5 10.1880870    \n",
       "6  0.5899705    "
      ]
     },
     "metadata": {},
     "output_type": "display_data"
    }
   ],
   "source": [
    "turki<-read.csv(\"P:/CODING/GITHUB/econometrics_ugm/Microeconometrics/Regression Discontinuity Design/CIT_2020_CUP_polecon.csv\",sep=\",\", header=1)\n",
    "head(turki)"
   ]
  },
  {
   "cell_type": "code",
   "execution_count": 4,
   "id": "72559847-013d-476d-a7b7-3f70c05c8400",
   "metadata": {},
   "outputs": [
    {
     "name": "stdout",
     "output_type": "stream",
     "text": [
      "\n",
      "Call:\n",
      "lm(formula = turki$Y[turki$X < 0 & turki$X >= -20] ~ turki$X[turki$X < \n",
      "    0 & turki$X >= -20])\n",
      "\n",
      "Coefficients:\n",
      "                          (Intercept)  turki$X[turki$X < 0 & turki$X >= -20]  \n",
      "                              12.6225                                -0.2481  \n",
      "\n"
     ]
    }
   ],
   "source": [
    "model=lm(turki$Y[turki$X<0 & turki$X>=-20] ~turki$X[turki$X<0 & turki$X>=-20])\n",
    "print(model)"
   ]
  },
  {
   "cell_type": "markdown",
   "id": "7469d167-a385-4cba-9487-d7f29c861551",
   "metadata": {},
   "source": [
    "## R Snippet 8"
   ]
  },
  {
   "cell_type": "code",
   "execution_count": 10,
   "id": "57f6b11d-e94d-49ac-91a7-7cbb90ca7e43",
   "metadata": {},
   "outputs": [
    {
     "name": "stdout",
     "output_type": "stream",
     "text": [
      "(Intercept) \n",
      "   12.62254 \n",
      "(Intercept) \n",
      "   15.54961 \n",
      "[1] \"The RD Estimator is 2.92707501347344\"\n"
     ]
    }
   ],
   "source": [
    "model_left=lm(turki$Y[turki$X<0 & turki$X>=-20] ~turki$X[turki$X<0 & turki$X>=-20])\n",
    "left_intercept=model_left$coefficients[1]\n",
    "print(left_intercept)\n",
    "model_right=lm(turki$Y[turki$X>0 & turki$X<=20] ~turki$X[turki$X>0 & turki$X<=20])\n",
    "right_intercept=model_right$coefficients[1]\n",
    "print(right_intercept)\n",
    "difference=right_intercept-left_intercept\n",
    "print(paste(\"The RD Estimator is\", difference, sep=\" \"))"
   ]
  },
  {
   "cell_type": "markdown",
   "id": "644cdef6-90e8-4848-bb55-eda9d878bc16",
   "metadata": {},
   "source": [
    "## R Snippet 9"
   ]
  },
  {
   "cell_type": "code",
   "execution_count": 13,
   "id": "aa70f568-37cb-447a-900e-74b8b949f489",
   "metadata": {},
   "outputs": [
    {
     "data": {
      "text/plain": [
       "\n",
       "Call:\n",
       "lm(formula = turki$Y[turki$X >= -20 & turki$X <= 20] ~ turki$X[turki$X >= \n",
       "    -20 & turki$X <= 20] + turki$T[turki$X >= -20 & turki$X <= \n",
       "    20] + turki$T_X[turki$X >= -20 & turki$X <= 20])\n",
       "\n",
       "Residuals:\n",
       "    Min      1Q  Median      3Q     Max \n",
       "-17.373  -7.718  -0.755   6.384  33.697 \n",
       "\n",
       "Coefficients:\n",
       "                                          Estimate Std. Error t value Pr(>|t|)\n",
       "(Intercept)                               12.62254    0.77459  16.296  < 2e-16\n",
       "turki$X[turki$X >= -20 & turki$X <= 20]   -0.24807    0.06723  -3.690 0.000238\n",
       "turki$T[turki$X >= -20 & turki$X <= 20]    2.92708    1.23529   2.370 0.018024\n",
       "turki$T_X[turki$X >= -20 & turki$X <= 20]  0.12612    0.12459   1.012 0.311667\n",
       "                                             \n",
       "(Intercept)                               ***\n",
       "turki$X[turki$X >= -20 & turki$X <= 20]   ***\n",
       "turki$T[turki$X >= -20 & turki$X <= 20]   *  \n",
       "turki$T_X[turki$X >= -20 & turki$X <= 20]    \n",
       "---\n",
       "Signif. codes:  0 '***' 0.001 '**' 0.01 '*' 0.05 '.' 0.1 ' ' 1\n",
       "\n",
       "Residual standard error: 9.316 on 884 degrees of freedom\n",
       "Multiple R-squared:  0.01721,\tAdjusted R-squared:  0.01387 \n",
       "F-statistic: 5.159 on 3 and 884 DF,  p-value: 0.00154\n"
      ]
     },
     "metadata": {},
     "output_type": "display_data"
    }
   ],
   "source": [
    "turki$T_X=turki$X*turki$T\n",
    "model3=lm(turki$Y[turki$X>=-20 & turki$X<=20] ~turki$X[turki$X>=-20 & turki$X<=20]\n",
    "          + turki$T[turki$X>=-20 & turki$X<=20] \n",
    "          + turki$T_X[turki$X>=-20 & turki$X<=20])\n",
    "summary(model3)"
   ]
  },
  {
   "cell_type": "markdown",
   "id": "c83b8046-9d90-48a9-8047-4b4a55cc14da",
   "metadata": {},
   "source": [
    "## R Snippet 10"
   ]
  },
  {
   "cell_type": "code",
   "execution_count": 14,
   "id": "36313554-0707-4bc8-af6d-0d7b451eb9e0",
   "metadata": {},
   "outputs": [],
   "source": [
    "w=NA\n",
    "w[turki$X<0 & turki$X>=-20]=1-abs(turki$X[turki$X<0 & turki$X>=-20]/20)\n",
    "w[turki$X>=0 & turki$X<=20]=1-abs(turki$X[turki$X>=0 & turki$X<20]/20)"
   ]
  },
  {
   "cell_type": "markdown",
   "id": "0c38bd51-b2c7-475c-bd31-d85a8902123f",
   "metadata": {},
   "source": [
    "## R Snippet 11"
   ]
  },
  {
   "cell_type": "code",
   "execution_count": 17,
   "id": "69056479-ec41-4dd4-95d0-1cb3128a490e",
   "metadata": {},
   "outputs": [
    {
     "name": "stdout",
     "output_type": "stream",
     "text": [
      "(Intercept) \n",
      "   12.69432 \n",
      "(Intercept) \n",
      "   15.64529 \n",
      "[1] \"The RD Estimator is 2.93731873315284\"\n"
     ]
    }
   ],
   "source": [
    "model_4_left=lm(turki$Y[turki$X<0] ~turki$X[turki$X<0], weights=w[turki$X<0])\n",
    "left_intercept_model4=model_4_left$coefficients[1]\n",
    "print(left_intercept)\n",
    "model_4_right=lm(turki$Y[turki$X>=0] ~turki$X[turki$X>=0], weights=w[turki$X>=0])\n",
    "right_intercept_model4=model_4_right$coefficients[1]\n",
    "print(right_intercept)\n",
    "difference_model_4=right_intercept_model4-left_intercept_model4\n",
    "print(paste(\"The RD Estimator is\", difference_model_4, sep=\" \"))"
   ]
  },
  {
   "cell_type": "markdown",
   "id": "60139139-80da-40ba-b190-800571185ae0",
   "metadata": {},
   "source": [
    "## R Snippet 12"
   ]
  },
  {
   "cell_type": "code",
   "execution_count": 19,
   "id": "89a46ccb-4f78-4b73-b635-627a349deb80",
   "metadata": {},
   "outputs": [
    {
     "name": "stderr",
     "output_type": "stream",
     "text": [
      "Warning message:\n",
      "\"package 'rdrobust' was built under R version 4.4.3\"\n"
     ]
    },
    {
     "name": "stdout",
     "output_type": "stream",
     "text": [
      "Sharp RD estimates using local polynomial regression.\n",
      "\n",
      "Number of Obs.                 2629\n",
      "BW type                      Manual\n",
      "Kernel                      Uniform\n",
      "VCE method                       NN\n",
      "\n",
      "Number of Obs.                 2314          315\n",
      "Eff. Number of Obs.             608          280\n",
      "Order est. (p)                    1            1\n",
      "Order bias  (q)                   2            2\n",
      "BW est. (h)                  20.000       20.000\n",
      "BW bias (b)                  20.000       20.000\n",
      "rho (h/b)                     1.000        1.000\n",
      "Unique Obs.                    2314          315\n",
      "\n",
      "=============================================================================\n",
      "        Method     Coef. Std. Err.         z     P>|z|      [ 95% C.I. ]       \n",
      "=============================================================================\n",
      "  Conventional     2.927     1.235     2.371     0.018     [0.507 , 5.347]     \n",
      "        Robust         -         -     1.636     0.102    [-0.582 , 6.471]     \n",
      "=============================================================================\n"
     ]
    }
   ],
   "source": [
    "library('rdrobust')\n",
    "model_5=rdrobust(turki$Y, turki$X, kernel=\"uniform\", p=1, h=20)\n",
    "summary(model_5)"
   ]
  },
  {
   "cell_type": "markdown",
   "id": "b9c2d796-0f5e-4e88-8035-b7594ba15d41",
   "metadata": {},
   "source": [
    "## R Snippet 13"
   ]
  },
  {
   "cell_type": "code",
   "execution_count": 21,
   "id": "1b812978-8aa9-4f65-b3e7-57fd51a9020c",
   "metadata": {},
   "outputs": [
    {
     "name": "stdout",
     "output_type": "stream",
     "text": [
      "Sharp RD estimates using local polynomial regression.\n",
      "\n",
      "Number of Obs.                 2629\n",
      "BW type                      Manual\n",
      "Kernel                   Triangular\n",
      "VCE method                       NN\n",
      "\n",
      "Number of Obs.                 2314          315\n",
      "Eff. Number of Obs.             608          280\n",
      "Order est. (p)                    1            1\n",
      "Order bias  (q)                   2            2\n",
      "BW est. (h)                  20.000       20.000\n",
      "BW bias (b)                  20.000       20.000\n",
      "rho (h/b)                     1.000        1.000\n",
      "Unique Obs.                    2314          315\n",
      "\n",
      "=============================================================================\n",
      "        Method     Coef. Std. Err.         z     P>|z|      [ 95% C.I. ]       \n",
      "=============================================================================\n",
      "  Conventional     2.937     1.343     2.187     0.029     [0.305 , 5.569]     \n",
      "        Robust         -         -     1.379     0.168    [-1.117 , 6.414]     \n",
      "=============================================================================\n"
     ]
    }
   ],
   "source": [
    "library('rdrobust')\n",
    "model_6=rdrobust(turki$Y, turki$X, kernel=\"triangular\", p=1, h=20)\n",
    "summary(model_6)"
   ]
  },
  {
   "cell_type": "markdown",
   "id": "cf73a697-b7b1-4e8d-b515-390b5745165d",
   "metadata": {},
   "source": [
    "## R Snippet 14"
   ]
  },
  {
   "cell_type": "code",
   "execution_count": 22,
   "id": "08d0b7b1-0891-4872-885a-933b07cb877d",
   "metadata": {},
   "outputs": [
    {
     "name": "stdout",
     "output_type": "stream",
     "text": [
      "Sharp RD estimates using local polynomial regression.\n",
      "\n",
      "Number of Obs.                 2629\n",
      "BW type                      Manual\n",
      "Kernel                   Triangular\n",
      "VCE method                       NN\n",
      "\n",
      "Number of Obs.                 2314          315\n",
      "Eff. Number of Obs.             608          280\n",
      "Order est. (p)                    2            2\n",
      "Order bias  (q)                   3            3\n",
      "BW est. (h)                  20.000       20.000\n",
      "BW bias (b)                  20.000       20.000\n",
      "rho (h/b)                     1.000        1.000\n",
      "Unique Obs.                    2314          315\n",
      "\n",
      "=============================================================================\n",
      "        Method     Coef. Std. Err.         z     P>|z|      [ 95% C.I. ]       \n",
      "=============================================================================\n",
      "  Conventional     2.649     1.921     1.379     0.168    [-1.117 , 6.414]     \n",
      "        Robust         -         -     0.420     0.674    [-3.969 , 6.135]     \n",
      "=============================================================================\n"
     ]
    }
   ],
   "source": [
    "library('rdrobust')\n",
    "model_7=rdrobust(turki$Y, turki$X, kernel=\"triangular\", p=2, h=20)\n",
    "summary(model_7)"
   ]
  },
  {
   "cell_type": "markdown",
   "id": "06308f49-914c-4432-a683-225b0542fa2e",
   "metadata": {},
   "source": [
    "## R Snippet 15"
   ]
  },
  {
   "cell_type": "code",
   "execution_count": 26,
   "id": "f226e105-b5a4-4545-9bc0-3ec24bf25413",
   "metadata": {},
   "outputs": [
    {
     "name": "stdout",
     "output_type": "stream",
     "text": [
      "Call: rdbwselect\n",
      "\n",
      "Number of Obs.                 2629\n",
      "BW type                       mserd\n",
      "Kernel                   Triangular\n",
      "VCE method                       NN\n",
      "\n",
      "Number of Obs.                 2314          315\n",
      "Order est. (p)                    1            1\n",
      "Order bias  (q)                   2            2\n",
      "Unique Obs.                    2311          315\n",
      "\n",
      "=======================================================\n",
      "                  BW est. (h)    BW bias (b)\n",
      "            Left of c Right of c  Left of c Right of c\n",
      "=======================================================\n",
      "     mserd    17.240     17.240     28.576     28.576\n",
      "=======================================================\n"
     ]
    }
   ],
   "source": [
    "library('rdrobust')\n",
    "model_15=rdbwselect(turki$Y, turki$X, kernel=\"triangular\", p=1, bwselect=\"mserd\")\n",
    "summary(model_15)"
   ]
  },
  {
   "cell_type": "markdown",
   "id": "c4b311be-0122-4760-986d-b2d43f3e282a",
   "metadata": {},
   "source": [
    "## R Snippet 16"
   ]
  },
  {
   "cell_type": "code",
   "execution_count": 27,
   "id": "1be9ea21-47b7-4b96-85f5-d64a6bb35b00",
   "metadata": {},
   "outputs": [
    {
     "name": "stdout",
     "output_type": "stream",
     "text": [
      "Call: rdbwselect\n",
      "\n",
      "Number of Obs.                 2629\n",
      "BW type                      msetwo\n",
      "Kernel                   Triangular\n",
      "VCE method                       NN\n",
      "\n",
      "Number of Obs.                 2314          315\n",
      "Order est. (p)                    1            1\n",
      "Order bias  (q)                   2            2\n",
      "Unique Obs.                    2311          315\n",
      "\n",
      "=======================================================\n",
      "                  BW est. (h)    BW bias (b)\n",
      "            Left of c Right of c  Left of c Right of c\n",
      "=======================================================\n",
      "    msetwo    19.967     17.360     32.279     29.729\n",
      "=======================================================\n"
     ]
    }
   ],
   "source": [
    "library('rdrobust')\n",
    "model_16=rdbwselect(turki$Y, turki$X, kernel=\"triangular\", p=1, bwselect=\"msetwo\")\n",
    "summary(model_16)"
   ]
  },
  {
   "cell_type": "markdown",
   "id": "1bde1dd3-10d6-42fa-9e11-59641044197e",
   "metadata": {},
   "source": [
    "## R Snippet 17"
   ]
  },
  {
   "cell_type": "code",
   "execution_count": 29,
   "id": "da017053-9f47-449c-9fda-d9776b540b73",
   "metadata": {},
   "outputs": [
    {
     "name": "stdout",
     "output_type": "stream",
     "text": [
      "Sharp RD estimates using local polynomial regression.\n",
      "\n",
      "Number of Obs.                 2629\n",
      "BW type                       mserd\n",
      "Kernel                   Triangular\n",
      "VCE method                       NN\n",
      "\n",
      "Number of Obs.                 2314          315\n",
      "Eff. Number of Obs.             529          266\n",
      "Order est. (p)                    1            1\n",
      "Order bias  (q)                   2            2\n",
      "BW est. (h)                  17.240       17.240\n",
      "BW bias (b)                  28.576       28.576\n",
      "rho (h/b)                     0.603        0.603\n",
      "Unique Obs.                    2311          315\n",
      "\n",
      "=============================================================================\n",
      "        Method     Coef. Std. Err.         z     P>|z|      [ 95% C.I. ]       \n",
      "=============================================================================\n",
      "  Conventional     3.020     1.427     2.116     0.034     [0.223 , 5.816]     \n",
      "        Robust         -         -     1.776     0.076    [-0.309 , 6.276]     \n",
      "=============================================================================\n"
     ]
    }
   ],
   "source": [
    "library('rdrobust')\n",
    "model_17=rdrobust(turki$Y, turki$X, kernel=\"triangular\", p=1, bwselect=\"mserd\")\n",
    "summary(model_17)"
   ]
  },
  {
   "cell_type": "markdown",
   "id": "23447f2c-4997-44e1-9850-15e49f6d874b",
   "metadata": {},
   "source": [
    "## R Snippet 18"
   ]
  },
  {
   "cell_type": "code",
   "execution_count": 36,
   "id": "39dcebd1-c5e0-4001-9fa2-b79d9c27a534",
   "metadata": {},
   "outputs": [
    {
     "name": "stdout",
     "output_type": "stream",
     "text": [
      " [1] \"Estimate\"   \"bws\"        \"coef\"       \"se\"         \"z\"         \n",
      " [6] \"pv\"         \"ci\"         \"beta_Y_p_l\" \"beta_Y_p_r\" \"V_cl_l\"    \n",
      "[11] \"V_cl_r\"     \"V_rb_l\"     \"V_rb_r\"     \"N\"          \"N_h\"       \n",
      "[16] \"N_b\"        \"M\"          \"tau_cl\"     \"tau_bc\"     \"c\"         \n",
      "[21] \"p\"          \"q\"          \"bias\"       \"kernel\"     \"all\"       \n",
      "[26] \"vce\"        \"bwselect\"  \n",
      "[1] 15.664938 -0.146083\n",
      "[1] 12.6454115 -0.2477253\n"
     ]
    }
   ],
   "source": [
    "rdout=rdrobust(turki$Y, turki$X, kernel=\"triangular\", p=1, bwselect=\"mserd\")\n",
    "print(names(rdout)[1:27])\n",
    "print(rdout$beta_Y_p_r)\n",
    "print(rdout$beta_Y_p_l)\n"
   ]
  },
  {
   "cell_type": "markdown",
   "id": "f19029ae-b8ec-4108-b351-8f43fc430428",
   "metadata": {},
   "source": [
    "## R Snippet 19"
   ]
  },
  {
   "cell_type": "code",
   "execution_count": 42,
   "id": "1b944387-c957-4743-b9e5-03211bda9418",
   "metadata": {},
   "outputs": [
    {
     "name": "stdout",
     "output_type": "stream",
     "text": [
      "Call: rdplot\n",
      "\n",
      "Number of Obs.                  795\n",
      "Kernel                   Triangular\n",
      "\n",
      "Number of Obs.                  529             266\n",
      "Eff. Number of Obs.             528             265\n",
      "Order poly. fit (p)               1               1\n",
      "BW poly. fit (h)             17.225          17.048\n",
      "Number of bins scale              1               1\n",
      "\n",
      "Bins Selected                    19              17\n",
      "Average Bin Length            0.907           1.003\n",
      "Median Bin Length             0.907           1.003\n",
      "\n",
      "IMSE-optimal bins                 5               3\n",
      "Mimicking Variance bins          19              17\n",
      "\n",
      "Relative to IMSE-optimal:\n",
      "Implied scale                 3.800           5.667\n",
      "WIMSE variance weight         0.018           0.005\n",
      "WIMSE bias weight             0.982           0.995\n",
      "\n"
     ]
    },
    {
     "data": {
      "image/png": "[encoded data removed]",
      "text/plain": [
       "plot without title"
      ]
     },
     "metadata": {
      "image/png": {
       "height": 420,
       "width": 420
      }
     },
     "output_type": "display_data"
    }
   ],
   "source": [
    "bandwith=rdrobust(turki$Y,turki$X,kernel=\"triangular\", p=1, bwselect=\"mserd\")$bws[1,1]\n",
    "model_19=rdplot(y=turki$Y[abs(x=turki$X)<=bandwith], \n",
    "                x=turki$X[abs(x=turki$X)<=bandwith], \n",
    "                p=1, \n",
    "                kernel=\"triangular\")\n",
    "summary(model_19)"
   ]
  },
  {
   "cell_type": "markdown",
   "id": "922b69b6-e982-443e-9242-7b7ebd70313d",
   "metadata": {},
   "source": [
    "## R Snippet 20"
   ]
  },
  {
   "cell_type": "code",
   "execution_count": 43,
   "id": "4937d410-ed9e-4a80-bbd6-a1c7c2846924",
   "metadata": {},
   "outputs": [
    {
     "name": "stdout",
     "output_type": "stream",
     "text": [
      "Sharp RD estimates using local polynomial regression.\n",
      "\n",
      "Number of Obs.                 2629\n",
      "BW type                       mserd\n",
      "Kernel                   Triangular\n",
      "VCE method                       NN\n",
      "\n",
      "Number of Obs.                 2314          315\n",
      "Eff. Number of Obs.            1152          305\n",
      "Order est. (p)                    1            1\n",
      "Order bias  (q)                   2            2\n",
      "BW est. (h)                  34.983       34.983\n",
      "BW bias (b)                  46.234       46.234\n",
      "rho (h/b)                     0.757        0.757\n",
      "Unique Obs.                    2311          315\n",
      "\n",
      "=============================================================================\n",
      "        Method     Coef. Std. Err.         z     P>|z|      [ 95% C.I. ]       \n",
      "=============================================================================\n",
      "  Conventional     2.843     1.110     2.562     0.010     [0.668 , 5.018]     \n",
      "        Robust         -         -     2.384     0.017     [0.596 , 6.104]     \n",
      "=============================================================================\n"
     ]
    }
   ],
   "source": [
    "model_20=rdrobust(turki$Y,turki$X,kernel=\"triangular\", scaleregul=0, p=1, bwselect=\"mserd\")\n",
    "summary(model_20)"
   ]
  },
  {
   "cell_type": "markdown",
   "id": "2bb06371-ab2c-477c-bd7a-45c8cadf4097",
   "metadata": {},
   "source": [
    "## R Snippet 21"
   ]
  },
  {
   "cell_type": "code",
   "execution_count": 44,
   "id": "2304f0ea-8d68-419a-98fe-c396d9fba128",
   "metadata": {},
   "outputs": [
    {
     "name": "stdout",
     "output_type": "stream",
     "text": [
      "Sharp RD estimates using local polynomial regression.\n",
      "\n",
      "Number of Obs.                 2629\n",
      "BW type                       mserd\n",
      "Kernel                   Triangular\n",
      "VCE method                       NN\n",
      "\n",
      "Number of Obs.                 2314          315\n",
      "Eff. Number of Obs.             529          266\n",
      "Order est. (p)                    1            1\n",
      "Order bias  (q)                   2            2\n",
      "BW est. (h)                  17.240       17.240\n",
      "BW bias (b)                  28.576       28.576\n",
      "rho (h/b)                     0.603        0.603\n",
      "Unique Obs.                    2311          315\n",
      "\n",
      "=============================================================================\n",
      "        Method     Coef. Std. Err.         z     P>|z|      [ 95% C.I. ]       \n",
      "=============================================================================\n",
      "  Conventional     3.020     1.427     2.116     0.034     [0.223 , 5.816]     \n",
      "        Robust         -         -     1.776     0.076    [-0.309 , 6.276]     \n",
      "=============================================================================\n"
     ]
    }
   ],
   "source": [
    "model_21=rdrobust(turki$Y,turki$X,kernel=\"triangular\", p=1, bwselect=\"mserd\")\n",
    "summary(model_21)"
   ]
  },
  {
   "cell_type": "markdown",
   "id": "885bb76e-96c9-472e-98a8-46fc30978cad",
   "metadata": {},
   "source": [
    "## R Snippet 22"
   ]
  },
  {
   "cell_type": "code",
   "execution_count": 45,
   "id": "196a7c1e-aa63-47cb-bd5f-0804707be322",
   "metadata": {},
   "outputs": [
    {
     "name": "stdout",
     "output_type": "stream",
     "text": [
      "Sharp RD estimates using local polynomial regression.\n",
      "\n",
      "Number of Obs.                 2629\n",
      "BW type                       mserd\n",
      "Kernel                   Triangular\n",
      "VCE method                       NN\n",
      "\n",
      "Number of Obs.                 2314          315\n",
      "Eff. Number of Obs.             529          266\n",
      "Order est. (p)                    1            1\n",
      "Order bias  (q)                   2            2\n",
      "BW est. (h)                  17.240       17.240\n",
      "BW bias (b)                  28.576       28.576\n",
      "rho (h/b)                     0.603        0.603\n",
      "Unique Obs.                    2311          315\n",
      "\n",
      "=============================================================================\n",
      "        Method     Coef. Std. Err.         z     P>|z|      [ 95% C.I. ]       \n",
      "=============================================================================\n",
      "  Conventional     3.020     1.427     2.116     0.034     [0.223 , 5.816]     \n",
      "Bias-Corrected     2.983     1.427     2.090     0.037     [0.186 , 5.780]     \n",
      "        Robust     2.983     1.680     1.776     0.076    [-0.309 , 6.276]     \n",
      "=============================================================================\n"
     ]
    }
   ],
   "source": [
    "model_22=rdrobust(turki$Y,turki$X,kernel=\"triangular\", p=1, bwselect=\"mserd\", all=TRUE)\n",
    "summary(model_22)"
   ]
  },
  {
   "cell_type": "markdown",
   "id": "032f80eb-cc2a-41f7-9462-04e2e63117b3",
   "metadata": {},
   "source": [
    "## R Snippet 23"
   ]
  },
  {
   "cell_type": "code",
   "execution_count": 46,
   "id": "a615e38a-da0e-476f-8b74-30445fca302a",
   "metadata": {},
   "outputs": [
    {
     "name": "stdout",
     "output_type": "stream",
     "text": [
      "Sharp RD estimates using local polynomial regression.\n",
      "\n",
      "Number of Obs.                 2629\n",
      "BW type                       cerrd\n",
      "Kernel                   Triangular\n",
      "VCE method                       NN\n",
      "\n",
      "Number of Obs.                 2314          315\n",
      "Eff. Number of Obs.             360          216\n",
      "Order est. (p)                    1            1\n",
      "Order bias  (q)                   2            2\n",
      "BW est. (h)                  11.629       11.629\n",
      "BW bias (b)                  28.576       28.576\n",
      "rho (h/b)                     0.407        0.407\n",
      "Unique Obs.                    2311          315\n",
      "\n",
      "=============================================================================\n",
      "        Method     Coef. Std. Err.         z     P>|z|      [ 95% C.I. ]       \n",
      "=============================================================================\n",
      "  Conventional     2.430     1.682     1.444     0.149    [-0.868 , 5.727]     \n",
      "        Robust         -         -     1.324     0.186    [-1.158 , 5.979]     \n",
      "=============================================================================\n"
     ]
    }
   ],
   "source": [
    "model_23=rdrobust(turki$Y,turki$X,kernel=\"triangular\", p=1, bwselect=\"cerrd\")\n",
    "summary(model_23)"
   ]
  },
  {
   "cell_type": "markdown",
   "id": "dd55d15e-0e78-4c6f-a9e5-0a9d8d0f2767",
   "metadata": {},
   "source": [
    "## R Snippet 24"
   ]
  },
  {
   "cell_type": "code",
   "execution_count": 47,
   "id": "c553a351-e308-4748-a834-a0107233129e",
   "metadata": {},
   "outputs": [
    {
     "name": "stdout",
     "output_type": "stream",
     "text": [
      "Call: rdbwselect\n",
      "\n",
      "Number of Obs.                 2629\n",
      "BW type                         All\n",
      "Kernel                   Triangular\n",
      "VCE method                       NN\n",
      "\n",
      "Number of Obs.                 2314          315\n",
      "Order est. (p)                    1            1\n",
      "Order bias  (q)                   2            2\n",
      "Unique Obs.                    2311          315\n",
      "\n",
      "=======================================================\n",
      "                  BW est. (h)    BW bias (b)\n",
      "            Left of c Right of c  Left of c Right of c\n",
      "=======================================================\n",
      "     mserd    17.240     17.240     28.576     28.576\n",
      "    msetwo    19.967     17.360     32.279     29.729\n",
      "    msesum    17.772     17.772     30.154     30.154\n",
      "  msecomb1    17.240     17.240     28.576     28.576\n",
      "  msecomb2    17.772     17.360     30.154     29.729\n",
      "     cerrd    11.629     11.629     28.576     28.576\n",
      "    certwo    13.469     11.710     32.279     29.729\n",
      "    cersum    11.988     11.988     30.154     30.154\n",
      "  cercomb1    11.629     11.629     28.576     28.576\n",
      "  cercomb2    11.988     11.710     30.154     29.729\n",
      "=======================================================\n"
     ]
    }
   ],
   "source": [
    "model_24=rdbwselect(turki$Y,turki$X,kernel=\"triangular\", all=TRUE)\n",
    "summary(model_24)"
   ]
  },
  {
   "cell_type": "markdown",
   "id": "b7dd60da-d035-4489-b575-7dad97675f09",
   "metadata": {},
   "source": [
    "## R Snippet 25"
   ]
  },
  {
   "cell_type": "code",
   "execution_count": 52,
   "id": "2b4841e0-17fc-4ece-978a-e3f8ccf30258",
   "metadata": {},
   "outputs": [
    {
     "name": "stdout",
     "output_type": "stream",
     "text": [
      "Call: rdbwselect\n",
      "\n",
      "Number of Obs.                 2629\n",
      "BW type                       mserd\n",
      "Kernel                   Triangular\n",
      "VCE method                       NN\n",
      "\n",
      "Number of Obs.                 2314          315\n",
      "Order est. (p)                    1            1\n",
      "Order bias  (q)                   2            2\n",
      "Unique Obs.                    2311          315\n",
      "\n",
      "=======================================================\n",
      "                  BW est. (h)    BW bias (b)\n",
      "            Left of c Right of c  Left of c Right of c\n",
      "=======================================================\n",
      "     mserd    14.410     14.410     23.733     23.733\n",
      "=======================================================\n"
     ]
    }
   ],
   "source": [
    "Z=cbind(turki$vshr_islam1994, turki$partycount, turki$lpop1994, \n",
    "        turki$merkezi, turki$merkezp, turki$subbuyuk, turki$buyuk)\n",
    "colnames(Z)=c(\"vshr_islam1994\", \"partycount\", \"lpop1994\", \n",
    "        \"merkezi\", \"merkezp\", \"subbuyuk\", \"buyuk\")\n",
    "model25=rdbwselect(turki$Y,turki$X, covs=Z, kernel=\"triangular\", scaleregul=1, p=1, bwselect=\"mserd\")\n",
    "summary(model25)"
   ]
  },
  {
   "cell_type": "code",
   "execution_count": 51,
   "id": "a9339336-5e99-4f1a-9e27-82f5920ee7db",
   "metadata": {},
   "outputs": [
    {
     "data": {
      "text/html": [
       "6"
      ],
      "text/latex": [
       "6"
      ],
      "text/markdown": [
       "6"
      ],
      "text/plain": [
       "[1] 6"
      ]
     },
     "metadata": {},
     "output_type": "display_data"
    }
   ],
   "source": [
    "ncol(Z)"
   ]
  },
  {
   "cell_type": "markdown",
   "id": "ee3da647-3656-4daa-8695-e0ba24cd3c29",
   "metadata": {},
   "source": [
    "## R Snippet 26"
   ]
  },
  {
   "cell_type": "code",
   "execution_count": 53,
   "id": "67a1f42a-fc2d-4831-8f21-7679b0511423",
   "metadata": {},
   "outputs": [
    {
     "name": "stdout",
     "output_type": "stream",
     "text": [
      "Covariate-adjusted Sharp RD estimates using local polynomial regression.\n",
      "\n",
      "Number of Obs.                 2629\n",
      "BW type                       mserd\n",
      "Kernel                   Triangular\n",
      "VCE method                       NN\n",
      "\n",
      "Number of Obs.                 2314          315\n",
      "Eff. Number of Obs.             448          241\n",
      "Order est. (p)                    1            1\n",
      "Order bias  (q)                   2            2\n",
      "BW est. (h)                  14.410       14.410\n",
      "BW bias (b)                  23.733       23.733\n",
      "rho (h/b)                     0.607        0.607\n",
      "Unique Obs.                    2311          315\n",
      "\n",
      "=============================================================================\n",
      "        Method     Coef. Std. Err.         z     P>|z|      [ 95% C.I. ]       \n",
      "=============================================================================\n",
      "  Conventional     3.108     1.284     2.421     0.015     [0.592 , 5.624]     \n",
      "        Robust         -         -     2.088     0.037     [0.194 , 6.132]     \n",
      "=============================================================================\n"
     ]
    }
   ],
   "source": [
    "Z=cbind(turki$vshr_islam1994, turki$partycount, turki$lpop1994, \n",
    "        turki$merkezi, turki$merkezp, turki$subbuyuk, turki$buyuk)\n",
    "colnames(Z)=c(\"vshr_islam1994\", \"partycount\", \"lpop1994\", \n",
    "        \"merkezi\", \"merkezp\", \"subbuyuk\", \"buyuk\")\n",
    "model26=rdrobust(turki$Y,turki$X, covs=Z, kernel=\"triangular\", scaleregul=1, p=1, bwselect=\"mserd\")\n",
    "summary(model26)"
   ]
  },
  {
   "cell_type": "markdown",
   "id": "71b552d4-123f-4cb4-8787-af40c0b515d4",
   "metadata": {},
   "source": [
    "## R Snippet 27"
   ]
  },
  {
   "cell_type": "code",
   "execution_count": 55,
   "id": "ae4a17c8-04a7-46aa-8983-63a1c28b6ecd",
   "metadata": {},
   "outputs": [
    {
     "name": "stdout",
     "output_type": "stream",
     "text": [
      "Sharp RD estimates using local polynomial regression.\n",
      "\n",
      "Number of Obs.                 2629\n",
      "BW type                       mserd\n",
      "Kernel                   Triangular\n",
      "VCE method                       NN\n",
      "\n",
      "Number of Obs.                 2314          315\n",
      "Eff. Number of Obs.             584          277\n",
      "Order est. (p)                    1            1\n",
      "Order bias  (q)                   2            2\n",
      "BW est. (h)                  19.036       19.036\n",
      "BW bias (b)                  29.875       29.875\n",
      "rho (h/b)                     0.637        0.637\n",
      "Unique Obs.                    2311          315\n",
      "\n",
      "=============================================================================\n",
      "        Method     Coef. Std. Err.         z     P>|z|      [ 95% C.I. ]       \n",
      "=============================================================================\n",
      "  Conventional     2.969     1.604     1.851     0.064    [-0.175 , 6.113]     \n",
      "        Robust         -         -     1.635     0.102    [-0.583 , 6.460]     \n",
      "=============================================================================\n"
     ]
    }
   ],
   "source": [
    "model27=rdrobust(turki$Y,turki$X, kernel=\"triangular\", scaleregul=1, p=1, \n",
    "                 bwselect=\"mserd\", cluster=turki$prov_num)\n",
    "summary(model27)"
   ]
  },
  {
   "cell_type": "markdown",
   "id": "165f29ac-d86d-40e3-ade4-92b5af8e31be",
   "metadata": {},
   "source": [
    "## R Snippet 28"
   ]
  },
  {
   "cell_type": "code",
   "execution_count": 56,
   "id": "50e6e555-e7c4-4c51-9407-0d4ef422ab3e",
   "metadata": {},
   "outputs": [
    {
     "name": "stdout",
     "output_type": "stream",
     "text": [
      "Covariate-adjusted Sharp RD estimates using local polynomial regression.\n",
      "\n",
      "Number of Obs.                 2629\n",
      "BW type                       mserd\n",
      "Kernel                   Triangular\n",
      "VCE method                       NN\n",
      "\n",
      "Number of Obs.                 2314          315\n",
      "Eff. Number of Obs.             481          254\n",
      "Order est. (p)                    1            1\n",
      "Order bias  (q)                   2            2\n",
      "BW est. (h)                  15.677       15.677\n",
      "BW bias (b)                  24.667       24.667\n",
      "rho (h/b)                     0.636        0.636\n",
      "Unique Obs.                    2311          315\n",
      "\n",
      "=============================================================================\n",
      "        Method     Coef. Std. Err.         z     P>|z|      [ 95% C.I. ]       \n",
      "=============================================================================\n",
      "  Conventional     3.146     1.301     2.419     0.016     [0.597 , 5.696]     \n",
      "        Robust         -         -     2.121     0.034     [0.243 , 6.154]     \n",
      "=============================================================================\n"
     ]
    }
   ],
   "source": [
    "model28=rdrobust(turki$Y,turki$X, kernel=\"triangular\", scaleregul=1, p=1, \n",
    "                 bwselect=\"mserd\", covs=Z, cluster=turki$prov_num)\n",
    "summary(model28)"
   ]
  }
 ],
 "metadata": {
  "kernelspec": {
   "display_name": "R",
   "language": "R",
   "name": "ir"
  },
  "language_info": {
   "codemirror_mode": "r",
   "file_extension": ".r",
   "mimetype": "text/x-r-source",
   "name": "R",
   "pygments_lexer": "r",
   "version": "4.4.1"
  }
 },
 "nbformat": 4,
 "nbformat_minor": 5
}
